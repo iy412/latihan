{
  "nbformat": 4,
  "nbformat_minor": 0,
  "metadata": {
    "colab": {
      "provenance": [],
      "authorship_tag": "ABX9TyNs+avU3sUOtFl1NMSkPtmU",
      "include_colab_link": true
    },
    "kernelspec": {
      "name": "python3",
      "display_name": "Python 3"
    },
    "language_info": {
      "name": "python"
    }
  },
  "cells": [
    {
      "cell_type": "markdown",
      "metadata": {
        "id": "view-in-github",
        "colab_type": "text"
      },
      "source": [
        "<a href=\"https://colab.research.google.com/github/iy412/latihan/blob/main/latihan_py.ipynb\" target=\"_parent\"><img src=\"https://colab.research.google.com/assets/colab-badge.svg\" alt=\"Open In Colab\"/></a>"
      ]
    },
    {
      "cell_type": "code",
      "execution_count": 10,
      "metadata": {
        "id": "HrLTi1r8hmwu"
      },
      "outputs": [],
      "source": [
        "import streamlit as st"
      ]
    },
    {
      "cell_type": "code",
      "source": [
        "st.button(\"Reset\", type=\"primary\")\n",
        "if st.button(\"Say hello\"):\n",
        "    st.write(\"Why hello there\")\n",
        "else:\n",
        "    st.write(\"Goodbye\")\n",
        "\n",
        "if st.button(\"Aloha\", type=\"tertiary\"):\n",
        "    st.write(\"Ciao\")"
      ],
      "metadata": {
        "id": "S7L3SU3rkDmY"
      },
      "execution_count": null,
      "outputs": []
    }
  ]
}